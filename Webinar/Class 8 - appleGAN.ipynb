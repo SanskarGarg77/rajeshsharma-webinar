{
  "nbformat": 4,
  "nbformat_minor": 0,
  "metadata": {
    "accelerator": "GPU",
    "colab": {
      "name": "appleGAN.ipynb",
      "provenance": [],
      "collapsed_sections": []
    },
    "kernelspec": {
      "display_name": "Python 3",
      "name": "python3"
    }
  },
  "cells": [
    {
      "cell_type": "markdown",
      "metadata": {
        "colab_type": "text",
        "id": "rF2x3qooyBTI"
      },
      "source": [
        "How to load the apple data"
      ]
    },
    {
      "cell_type": "code",
      "metadata": {
        "colab_type": "code",
        "id": "YzTlj4YdCip_",
        "colab": {
          "base_uri": "https://localhost:8080/",
          "height": 90
        },
        "outputId": "71efbe0e-cfcb-4252-fb15-27681d47e2e3"
      },
      "source": [
        "# To generate GIFs\n",
        "!pip install imageio"
      ],
      "execution_count": 5,
      "outputs": [
        {
          "output_type": "stream",
          "text": [
            "Requirement already satisfied: imageio in /usr/local/lib/python3.6/dist-packages (2.4.1)\n",
            "Requirement already satisfied: pillow in /usr/local/lib/python3.6/dist-packages (from imageio) (7.0.0)\n",
            "Requirement already satisfied: numpy in /usr/local/lib/python3.6/dist-packages (from imageio) (1.18.5)\n"
          ],
          "name": "stdout"
        }
      ]
    },
    {
      "cell_type": "code",
      "metadata": {
        "colab_type": "code",
        "id": "YfIk2es3hJEd",
        "colab": {}
      },
      "source": [
        "import tensorflow as tf\n",
        "import tensorflow_datasets as tfds\n",
        "import glob\n",
        "import imageio\n",
        "import matplotlib.pyplot as plt\n",
        "import numpy as np\n",
        "import os\n",
        "import PIL\n",
        "from tensorflow.keras import layers\n",
        "import time\n",
        "\n",
        "from IPython import display"
      ],
      "execution_count": 6,
      "outputs": []
    },
    {
      "cell_type": "code",
      "metadata": {
        "colab_type": "code",
        "id": "NFC2ghIdiZYE",
        "colab": {}
      },
      "source": [
        "dataset, metadata = tfds.load('cycle_gan/apple2orange', with_info=True, as_supervised=True)\n",
        "train_apples, train_oranges = dataset['trainA'], dataset['trainB']\n",
        "test_apples, test_oranges = dataset['testA'], dataset['testB']\n",
        "BUFFER_SIZE = 1000\n",
        "BATCH_SIZE = 1\n",
        "IMG_WIDTH = 256\n",
        "IMG_HEIGHT = 256\n",
        "print(train_apples)"
      ],
      "execution_count": null,
      "outputs": []
    },
    {
      "cell_type": "code",
      "metadata": {
        "id": "nT71timDTg36",
        "colab_type": "code",
        "colab": {}
      },
      "source": [
        "print(metadata)"
      ],
      "execution_count": null,
      "outputs": []
    },
    {
      "cell_type": "code",
      "metadata": {
        "colab_type": "code",
        "id": "S4PIDhoDLbsZ",
        "colab": {}
      },
      "source": [
        "BUFFER_SIZE = 1000\n",
        "BATCH_SIZE = 32\n",
        "train_apples = dataset['trainA']\n",
        "def normalize_img(image, label):\n",
        "  image = tf.cast(image, tf.float32)\n",
        "  image = (image / 127.5) - 1\n",
        "  image = tf.image.resize(image, [64, 64])\n",
        "  return image\n",
        "\n",
        "train_apples = train_apples.map(\n",
        "    normalize_img, num_parallel_calls=tf.data.experimental.AUTOTUNE).cache().shuffle(\n",
        "    BUFFER_SIZE).batch(1)\n",
        "\n",
        "sample_apple = next(iter(train_apples))\n",
        "plt.subplot(121)\n",
        "plt.title('Apple1')\n",
        "plt.imshow(sample_apple[0] * 0.5 + 0.5)\n",
        "sample_apple = next(iter(train_horses))\n",
        "plt.subplot(122)\n",
        "plt.title('Apple2')\n",
        "plt.imshow(sample_apple[0] * 0.5 + 0.5)"
      ],
      "execution_count": null,
      "outputs": []
    },
    {
      "cell_type": "code",
      "metadata": {
        "id": "YKXiVHpj2ZNs",
        "colab_type": "code",
        "colab": {}
      },
      "source": [
        "# how to make animated GIF from a series of png images\n",
        "import glob\n",
        "from PIL import Image\n",
        "\n",
        "# filepaths\n",
        "fp_in = \"image_at_epoch*.png\"\n",
        "fp_out = \"image.gif\"\n",
        "img, *imgs = [Image.open(f) for f in sorted(glob.glob(fp_in))]\n",
        "img.save(fp=fp_out, format='GIF', append_images=imgs,\n",
        "         save_all=True, duration=200, loop=0)"
      ],
      "execution_count": null,
      "outputs": []
    }
  ]
}